{
 "cells": [
  {
   "cell_type": "markdown",
   "metadata": {},
   "source": [
    "<center>\n",
    "    <img src=\"https://cf-courses-data.s3.us.cloud-object-storage.appdomain.cloud/assets/logos/SN_web_lightmode.png\" width=\"300\" alt=\"cognitiveclass.ai logo\">\n",
    "</center>\n"
   ]
  },
  {
   "cell_type": "markdown",
   "metadata": {},
   "source": [
    "# **LSTM and GRU Demo (Activity)**\n"
   ]
  },
  {
   "cell_type": "markdown",
   "metadata": {},
   "source": [
    "Estimated time needed: **45** minutes\n"
   ]
  },
  {
   "cell_type": "markdown",
   "metadata": {},
   "source": [
    "Vanilla RNNs work well when dealing with short-term dependencies but suffer from the vanishing gradient descent problem when it comes to long-term context dependencies. This is because some information is lost at each time step when traversing the layers. Gated RNNs have units that are designed to forget and to update relevant information and can provide a good solution to this problem. In this lab, we will talk about two types of gated RNNs: LSTM and GRUs.\n"
   ]
  },
  {
   "cell_type": "markdown",
   "metadata": {},
   "source": [
    "## __Table of Contents__\n",
    "\n",
    "<ol>\n",
    "    <li><a href=\"#Objectives\">Objectives</a></li>\n",
    "    <li>\n",
    "        <a href=\"#Setup\">Setup</a>\n",
    "        <ol>\n",
    "            <li><a href=\"#Installing-Required-Libraries\">Installing Required Libraries</a></li>\n",
    "            <li><a href=\"#Importing-Required-Libraries\">Importing Required Libraries</a></li>\n",
    "            <li><a href=\"#Defining-Helper-Functions\">Defining Helper Functions</a></li>\n",
    "        </ol>\n",
    "    </li>\n",
    "    <li>\n",
    "        <a href=\"#Gated-RNNs\">Gated RNNs</a>\n",
    "        <ol>\n",
    "            <li><a href=\"#LSTM\">LSTM</a></li>\n",
    "            <li><a href=\"#GRU\">GRU</a></li>\n",
    "            <li><a href=\"#LSTM in Keras: Time-series forecasting\">LSTM in Keras: Time-series forecasting</a></li>\n",
    "            <li><a href=\"#Exercise 1: GRU in Keras - Reuters classification\">Exercise 1: GRU in Keras - Reuters classification</a></li>\n",
    "        </ol>\n",
    "    </li>\n"
   ]
  },
  {
   "cell_type": "markdown",
   "metadata": {},
   "source": [
    "## Objectives\n",
    "\n",
    "After completing this lab, you will be able to:\n",
    "\n",
    " - Explain the fundamental components of LSTM and GRU\n",
    " - Implement LSTM and GRU in Keras for various tasks and applications\n"
   ]
  },
  {
   "cell_type": "markdown",
   "metadata": {},
   "source": [
    "----\n"
   ]
  },
  {
   "cell_type": "markdown",
   "metadata": {},
   "source": [
    "## Setup\n"
   ]
  },
  {
   "cell_type": "markdown",
   "metadata": {},
   "source": [
    "For this lab, we will be using the following libraries:\n",
    "\n",
    "*   [`pandas`](https://pandas.pydata.org/?utm_medium=Exinfluencer&utm_source=Exinfluencer&utm_content=000026UJ&utm_term=10006555&utm_id=NA-SkillsNetwork-Channel-SkillsNetworkCoursesIBMML0187ENSkillsNetwork31430127-2021-01-01) for managing the data.\n",
    "*   [`numpy`](https://numpy.org/?utm_medium=Exinfluencer&utm_source=Exinfluencer&utm_content=000026UJ&utm_term=10006555&utm_id=NA-SkillsNetwork-Channel-SkillsNetworkCoursesIBMML0187ENSkillsNetwork31430127-2021-01-01) for mathematical operations.\n",
    "*   [`sklearn`](https://scikit-learn.org/stable/?utm_medium=Exinfluencer&utm_source=Exinfluencer&utm_content=000026UJ&utm_term=10006555&utm_id=NA-SkillsNetwork-Channel-SkillsNetworkCoursesIBMML0187ENSkillsNetwork31430127-2021-01-01) for machine learning and machine-learning-pipeline related functions.\n",
    "*   [`seaborn`](https://seaborn.pydata.org/?utm_medium=Exinfluencer&utm_source=Exinfluencer&utm_content=000026UJ&utm_term=10006555&utm_id=NA-SkillsNetwork-Channel-SkillsNetworkCoursesIBMML0187ENSkillsNetwork31430127-2021-01-01) for visualizing the data.\n",
    "*   [`matplotlib`](https://matplotlib.org/?utm_medium=Exinfluencer&utm_source=Exinfluencer&utm_content=000026UJ&utm_term=10006555&utm_id=NA-SkillsNetwork-Channel-SkillsNetworkCoursesIBMML0187ENSkillsNetwork31430127-2021-01-01) for additional plotting tools.\n"
   ]
  },
  {
   "cell_type": "markdown",
   "metadata": {},
   "source": [
    "### Installing Required Libraries\n",
    "\n",
    "The following required libraries are pre-installed in the Skills Network Labs environment. However, if you run these notebook commands in a different Jupyter environment (like Watson Studio or Ananconda), you will need to install these libraries by removing the `#` sign before `!mamba` in the following code cell.\n"
   ]
  },
  {
   "cell_type": "code",
   "execution_count": 1,
   "metadata": {
    "tags": []
   },
   "outputs": [
    {
     "name": "stdout",
     "output_type": "stream",
     "text": [
      "Could not solve for environment specs\n",
      "The following packages are incompatible\n",
      "├─ \u001b[32mmatplotlib 3.5.0 \u001b[0m is installable with the potential options\n",
      "│  ├─ \u001b[32mmatplotlib [2.2.2|3.1.2|...|3.5.3]\u001b[0m would require\n",
      "│  │  ├─ \u001b[32mmatplotlib-base [>=3.3.2,<3.3.3.0a0 |>=3.3.4,<3.3.5.0a0 |...|>=3.5.3,<3.5.4.0a0 ]\u001b[0m with the potential options\n",
      "│  │  │  ├─ \u001b[32mmatplotlib-base [3.5.0|3.5.1|3.5.2]\u001b[0m would require\n",
      "│  │  │  │  └─ \u001b[32mfreetype >=2.11.0,<3.0a0 \u001b[0m, which can be installed;\n",
      "│  │  │  ├─ \u001b[32mmatplotlib-base [3.5.0|3.5.1|3.5.2|3.5.3]\u001b[0m would require\n",
      "│  │  │  │  └─ \u001b[32mpython >=3.10,<3.11.0a0 \u001b[0m, which can be installed;\n",
      "│  │  │  ├─ \u001b[32mmatplotlib-base [3.3.2|3.3.4|...|3.5.3]\u001b[0m would require\n",
      "│  │  │  │  └─ \u001b[32mpython >=3.8,<3.9.0a0 \u001b[0m, which can be installed;\n",
      "│  │  │  ├─ \u001b[32mmatplotlib-base [3.3.2|3.3.4|...|3.5.3]\u001b[0m would require\n",
      "│  │  │  │  └─ \u001b[32mpython >=3.9,<3.10.0a0 \u001b[0m, which can be installed;\n",
      "│  │  │  ├─ \u001b[32mmatplotlib-base 3.5.3\u001b[0m would require\n",
      "│  │  │  │  └─ \u001b[32mfreetype >=2.12.1,<3.0a0 \u001b[0m, which can be installed;\n",
      "│  │  │  ├─ \u001b[32mmatplotlib-base [3.3.2|3.3.4]\u001b[0m would require\n",
      "│  │  │  │  └─ \u001b[32mpython >=3.6,<3.7.0a0 \u001b[0m, which can be installed;\n",
      "│  │  │  └─ \u001b[32mmatplotlib-base [3.3.2|3.3.4|3.4.2|3.4.3]\u001b[0m would require\n",
      "│  │  │     └─ \u001b[32mfreetype >=2.10.4,<3.0a0 \u001b[0m, which can be installed;\n",
      "│  │  └─ \u001b[32mpyqt [ |>=5.6,<6.0a0 ]\u001b[0m with the potential options\n",
      "│  │     ├─ \u001b[32mpyqt [5.15.10|5.15.7|5.9.2]\u001b[0m would require\n",
      "│  │     │  └─ \u001b[32mpython >=3.10,<3.11.0a0 \u001b[0m, which can be installed;\n",
      "│  │     ├─ \u001b[32mpyqt [5.15.10|5.15.7]\u001b[0m would require\n",
      "│  │     │  └─ \u001b[32mpython >=3.11,<3.12.0a0 \u001b[0m, which can be installed;\n",
      "│  │     ├─ \u001b[32mpyqt 5.15.10\u001b[0m would require\n",
      "│  │     │  └─ \u001b[32mpython >=3.12,<3.13.0a0 \u001b[0m, which can be installed;\n",
      "│  │     ├─ \u001b[32mpyqt 5.15.10\u001b[0m would require\n",
      "│  │     │  ├─ \u001b[32mpython >=3.13,<3.14.0a0 \u001b[0m, which can be installed;\n",
      "│  │     │  └─ \u001b[32mpython_abi 3.13.* *_cp313\u001b[0m, which can be installed;\n",
      "│  │     ├─ \u001b[32mpyqt [5.15.10|5.15.7|5.9.2]\u001b[0m would require\n",
      "│  │     │  └─ \u001b[32mpython >=3.8,<3.9.0a0 \u001b[0m, which can be installed;\n",
      "│  │     ├─ \u001b[32mpyqt [5.15.10|5.15.7|5.9.2]\u001b[0m would require\n",
      "│  │     │  └─ \u001b[32mpython >=3.9,<3.10.0a0 \u001b[0m, which can be installed;\n",
      "│  │     ├─ \u001b[32mpyqt 5.15.7\u001b[0m would require\n",
      "│  │     │  ├─ \u001b[32mqt-main 5.15.* \u001b[0m with the potential options\n",
      "│  │     │  │  ├─ \u001b[32mqt-main 5.15.2\u001b[0m would require\n",
      "│  │     │  │  │  ├─ \u001b[32mfreetype >=2.10.4,<3.0a0 \u001b[0m, which can be installed;\n",
      "│  │     │  │  │  └─ \u001b[32micu >=73.1,<74.0a0 \u001b[0m, which can be installed;\n",
      "│  │     │  │  ├─ \u001b[32mqt-main 5.15.2\u001b[0m would require\n",
      "│  │     │  │  │  ├─ \u001b[32mfreetype >=2.10.4,<3.0a0 \u001b[0m, which can be installed;\n",
      "│  │     │  │  │  └─ \u001b[32micu >=58.2,<59.0a0 \u001b[0m, which can be installed;\n",
      "│  │     │  │  ├─ \u001b[32mqt-main 5.15.2\u001b[0m would require\n",
      "│  │     │  │  │  └─ \u001b[32mopenssl >=3.0.10,<4.0a0 \u001b[0m, which can be installed;\n",
      "│  │     │  │  ├─ \u001b[32mqt-main 5.15.2\u001b[0m would require\n",
      "│  │     │  │  │  └─ \u001b[32mopenssl >=3.0.9,<4.0a0 \u001b[0m, which can be installed;\n",
      "│  │     │  │  └─ \u001b[32mqt-main 5.15.2\u001b[0m would require\n",
      "│  │     │  │     └─ \u001b[32mopenssl >=3.0.15,<4.0a0 \u001b[0m, which can be installed;\n",
      "│  │     │  ├─ \u001b[32mqt-webengine 5.15.* \u001b[0m with the potential options\n",
      "│  │     │  │  ├─ \u001b[32mqt-webengine 5.15.9\u001b[0m would require\n",
      "│  │     │  │  │  ├─ \u001b[32mfreetype >=2.10.4,<3.0a0 \u001b[0m, which can be installed;\n",
      "│  │     │  │  │  └─ \u001b[32mqt >=5.15.2,<6 \u001b[0m, which can be installed;\n",
      "│  │     │  │  └─ \u001b[32mqt-webengine 5.15.9\u001b[0m would require\n",
      "│  │     │  │     ├─ \u001b[32mfreetype >=2.10.4,<3.0a0 \u001b[0m, which can be installed;\n",
      "│  │     │  │     └─ \u001b[32mqt 5.15.9 \u001b[0m, which can be installed;\n",
      "│  │     │  └─ \u001b[32mqtwebkit 5.* \u001b[0m with the potential options\n",
      "│  │     │     ├─ \u001b[32mqtwebkit 5.212\u001b[0m would require\n",
      "│  │     │     │  └─ \u001b[32mlibwebp-base >=1.2.4,<2.0a0 \u001b[0m with the potential options\n",
      "│  │     │     │     ├─ \u001b[32mlibwebp-base 1.2.4\u001b[0m would require\n",
      "│  │     │     │     │  └─ \u001b[32mlibwebp 1.2.4 \u001b[0m, which can be installed;\n",
      "│  │     │     │     └─ \u001b[32mlibwebp-base 1.3.2\u001b[0m would require\n",
      "│  │     │     │        └─ \u001b[32mlibwebp 1.3.2 \u001b[0m, which can be installed;\n",
      "│  │     │     └─ \u001b[32mqtwebkit 5.212\u001b[0m would require\n",
      "│  │     │        └─ \u001b[32mlibwebp >=1.2.0,<1.3.0a0 \u001b[0m, which can be installed;\n",
      "│  │     ├─ \u001b[32mpyqt [5.6.0|5.9.2]\u001b[0m would require\n",
      "│  │     │  └─ \u001b[32mpython >=2.7,<2.8.0a0 \u001b[0m, which can be installed;\n",
      "│  │     ├─ \u001b[32mpyqt [5.6.0|5.9.2]\u001b[0m would require\n",
      "│  │     │  └─ \u001b[32mpython >=3.5,<3.6.0a0 \u001b[0m, which can be installed;\n",
      "│  │     ├─ \u001b[32mpyqt [5.6.0|5.9.2]\u001b[0m would require\n",
      "│  │     │  └─ \u001b[32mpython >=3.6,<3.7.0a0 \u001b[0m, which can be installed;\n",
      "│  │     └─ \u001b[32mpyqt [5.6.0|5.9.2]\u001b[0m would require\n",
      "│  │        └─ \u001b[32mqt [5.6.* |5.9.* ]\u001b[0m with the potential options\n",
      "│  │           ├─ \u001b[32mqt [5.6.2|5.9.4|5.9.5]\u001b[0m would require\n",
      "│  │           │  └─ \u001b[32mopenssl 1.0.* \u001b[0m, which can be installed;\n",
      "│  │           ├─ \u001b[32mqt 5.6.2\u001b[0m would require\n",
      "│  │           │  └─ \u001b[32mopenssl >=1.0.2n,<1.0.3a \u001b[0m, which can be installed;\n",
      "│  │           ├─ \u001b[32mqt 5.6.3\u001b[0m would require\n",
      "│  │           │  ├─ \u001b[32mfontconfig >=2.13.0,<3.0a0 \u001b[0m with the potential options\n",
      "│  │           │  │  ├─ \u001b[32mfontconfig 2.14.2\u001b[0m would require\n",
      "│  │           │  │  │  └─ \u001b[32mfreetype >=2.12.1,<3.0a0 \u001b[0m, which can be installed;\n",
      "│  │           │  │  ├─ \u001b[32mfontconfig [2.13.0|2.13.1]\u001b[0m would require\n",
      "│  │           │  │  │  └─ \u001b[32mlibuuid >=1.0.3,<2.0a0 \u001b[0m, which can be installed;\n",
      "│  │           │  │  ├─ \u001b[32mfontconfig 2.14.1\u001b[0m would require\n",
      "│  │           │  │  │  └─ \u001b[32mlibuuid >=1.41.5,<2.0a0 \u001b[0m, which can be installed;\n",
      "│  │           │  │  └─ \u001b[32mfontconfig 2.14.1\u001b[0m would require\n",
      "│  │           │  │     └─ \u001b[32mfreetype >=2.10.4,<3.0a0 \u001b[0m, which can be installed;\n",
      "│  │           │  └─ \u001b[32mopenssl >=1.0.2o,<1.0.3a \u001b[0m, which can be installed;\n",
      "│  │           ├─ \u001b[32mqt 5.6.3\u001b[0m would require\n",
      "│  │           │  ├─ \u001b[32mfontconfig >=2.13.0,<3.0a0 \u001b[0m, which can be installed (as previously explained);\n",
      "│  │           │  └─ \u001b[32mopenssl >=1.0.2p,<1.0.3a \u001b[0m, which can be installed;\n",
      "│  │           ├─ \u001b[32mqt [5.6.3|5.9.7]\u001b[0m would require\n",
      "│  │           │  ├─ \u001b[32mfontconfig >=2.13.0,<3.0a0 \u001b[0m, which can be installed (as previously explained);\n",
      "│  │           │  └─ \u001b[32micu >=58.2,<59.0a0 \u001b[0m, which can be installed;\n",
      "│  │           └─ \u001b[32mqt 5.9.6\u001b[0m would require\n",
      "│  │              ├─ \u001b[32mfontconfig >=2.13.0,<3.0a0 \u001b[0m, which can be installed (as previously explained);\n",
      "│  │              └─ \u001b[32mopenssl 1.0.* \u001b[0m, which can be installed;\n",
      "│  ├─ \u001b[32mmatplotlib [3.10.0|3.5.0|...|3.9.2]\u001b[0m would require\n",
      "│  │  └─ \u001b[32mpython >=3.10,<3.11.0a0 \u001b[0m, which can be installed;\n",
      "│  ├─ \u001b[32mmatplotlib [3.1.1|3.1.2|...|3.7.2]\u001b[0m would require\n",
      "│  │  └─ \u001b[32mpython >=3.8,<3.9.0a0 \u001b[0m, which can be installed;\n",
      "│  └─ \u001b[32mmatplotlib [3.3.4|3.4.2|...|3.9.2]\u001b[0m would require\n",
      "│     └─ \u001b[32mpython >=3.9,<3.10.0a0 \u001b[0m, which can be installed;\n",
      "├─ \u001b[31mnumpy 1.21.4 \u001b[0m does not exist (perhaps a typo or a missing channel);\n",
      "└─ \u001b[32mseaborn 0.9.0 \u001b[0m is installable with the potential options\n",
      "   ├─ \u001b[32mseaborn 0.9.0\u001b[0m would require\n",
      "   │  ├─ \u001b[32mmatplotlib >=1.4.3 \u001b[0m with the potential options\n",
      "   │  │  ├─ \u001b[32mmatplotlib [2.2.2|3.1.2|...|3.5.3]\u001b[0m, which can be installed (as previously explained);\n",
      "   │  │  ├─ \u001b[32mmatplotlib [3.10.0|3.5.0|...|3.9.2]\u001b[0m, which can be installed (as previously explained);\n",
      "   │  │  ├─ \u001b[32mmatplotlib [3.1.1|3.1.2|...|3.7.2]\u001b[0m, which can be installed (as previously explained);\n",
      "   │  │  ├─ \u001b[32mmatplotlib [3.3.4|3.4.2|...|3.9.2]\u001b[0m, which can be installed (as previously explained);\n",
      "   │  │  ├─ \u001b[32mmatplotlib [2.0.2|2.1.0|...|2.2.3]\u001b[0m would require\n",
      "   │  │  │  └─ \u001b[32mpython >=2.7,<2.8.0a0 \u001b[0m, which can be installed;\n",
      "   │  │  ├─ \u001b[32mmatplotlib [2.0.2|2.1.0|...|3.0.0]\u001b[0m would require\n",
      "   │  │  │  └─ \u001b[32mpython >=3.5,<3.6.0a0 \u001b[0m, which can be installed;\n",
      "   │  │  ├─ \u001b[32mmatplotlib [2.0.2|2.1.0|...|3.3.4]\u001b[0m would require\n",
      "   │  │  │  └─ \u001b[32mpython >=3.6,<3.7.0a0 \u001b[0m, which can be installed;\n",
      "   │  │  ├─ \u001b[32mmatplotlib [2.2.3|3.0.0|...|3.1.2]\u001b[0m would require\n",
      "   │  │  │  └─ \u001b[32mpyqt 5.9.* \u001b[0m, which can be installed (as previously explained);\n",
      "   │  │  ├─ \u001b[32mmatplotlib [3.10.0|3.6.2|...|3.9.2]\u001b[0m would require\n",
      "   │  │  │  └─ \u001b[32mpython >=3.11,<3.12.0a0 \u001b[0m, which can be installed;\n",
      "   │  │  ├─ \u001b[32mmatplotlib [3.10.0|3.8.0|3.8.4|3.9.2]\u001b[0m would require\n",
      "   │  │  │  └─ \u001b[32mpython >=3.12,<3.13.0a0 \u001b[0m, which can be installed;\n",
      "   │  │  └─ \u001b[32mmatplotlib [3.10.0|3.9.2]\u001b[0m would require\n",
      "   │  │     └─ \u001b[32mpython_abi 3.13.* *_cp313\u001b[0m, which can be installed;\n",
      "   │  └─ \u001b[32mpython [ |>=3.7,<3.8.0a0 ]\u001b[0m with the potential options\n",
      "   │     ├─ \u001b[32mpython [3.10.0|3.10.10|...|3.10.9]\u001b[0m, which can be installed;\n",
      "   │     ├─ \u001b[32mpython [3.11.0|3.11.10|...|3.11.9]\u001b[0m, which can be installed;\n",
      "   │     ├─ \u001b[32mpython [3.12.0|3.12.1|...|3.12.9]\u001b[0m, which can be installed;\n",
      "   │     ├─ \u001b[32mpython [3.13.0|3.13.1|3.13.2]\u001b[0m, which can be installed;\n",
      "   │     ├─ \u001b[32mpython [3.8.0|3.8.1|...|3.8.8]\u001b[0m, which can be installed;\n",
      "   │     ├─ \u001b[32mpython [3.9.0|3.9.1|...|3.9.7]\u001b[0m, which can be installed;\n",
      "   │     ├─ \u001b[32mpython [2.7.13|2.7.14|...|2.7.18]\u001b[0m, which can be installed;\n",
      "   │     ├─ \u001b[32mpython [3.5.4|3.5.5|3.5.6]\u001b[0m, which can be installed;\n",
      "   │     ├─ \u001b[32mpython [3.6.10|3.6.12|...|3.6.9]\u001b[0m, which can be installed;\n",
      "   │     ├─ \u001b[31mpython 3.7.12\u001b[0m would require\n",
      "   │     │  └─ \u001b[31mopenssl >=1.1.1l,<1.1.2a \u001b[0m, which conflicts with any installable versions previously reported;\n",
      "   │     ├─ \u001b[32mpython [3.7.0|3.7.1|...|3.7.9]\u001b[0m, which can be installed;\n",
      "   │     └─ \u001b[31mpython 3.7.7\u001b[0m would require\n",
      "   │        └─ \u001b[31mopenssl >=1.1.1e,<1.1.2a \u001b[0m, which conflicts with any installable versions previously reported;\n",
      "   ├─ \u001b[32mseaborn 0.9.0\u001b[0m would require\n",
      "   │  └─ \u001b[32mpython >=2.7,<2.8.0a0 \u001b[0m, which can be installed;\n",
      "   ├─ \u001b[32mseaborn 0.9.0\u001b[0m would require\n",
      "   │  └─ \u001b[32mpython >=3.5,<3.6.0a0 \u001b[0m, which can be installed;\n",
      "   └─ \u001b[32mseaborn 0.9.0\u001b[0m would require\n",
      "      └─ \u001b[32mpython >=3.6,<3.7.0a0 \u001b[0m, which can be installed.\n"
     ]
    }
   ],
   "source": [
    "# All Libraries required for this lab are listed below. The libraries pre-installed on Skills Network Labs are commented.\n",
    "!mamba install -qy pandas==1.3.4 numpy==1.21.4 seaborn==0.9.0 matplotlib==3.5.0 scikit-learn==0.20.1\n",
    "# Note: If your environment doesn't support \"!mamba install\", use \"!pip install\""
   ]
  },
  {
   "cell_type": "markdown",
   "metadata": {},
   "source": [
    "The following required libraries are __not__ pre-installed in the Skills Network Labs environment. __You will need to run the following cell__ to install them:\n"
   ]
  },
  {
   "cell_type": "code",
   "execution_count": 2,
   "metadata": {
    "tags": []
   },
   "outputs": [],
   "source": [
    "%%capture\n",
    "\n",
    "!mamba install -qy tqdm\n",
    "!pip install tensorflow --upgrade"
   ]
  },
  {
   "cell_type": "markdown",
   "metadata": {},
   "source": [
    "### Importing Required Libraries\n"
   ]
  },
  {
   "cell_type": "code",
   "execution_count": 3,
   "metadata": {
    "tags": []
   },
   "outputs": [
    {
     "name": "stderr",
     "output_type": "stream",
     "text": [
      "2025-02-10 11:00:48.328546: I tensorflow/core/platform/cpu_feature_guard.cc:193] This TensorFlow binary is optimized with oneAPI Deep Neural Network Library (oneDNN) to use the following CPU instructions in performance-critical operations:  AVX2 AVX512F AVX512_VNNI FMA\n",
      "To enable them in other operations, rebuild TensorFlow with the appropriate compiler flags.\n",
      "2025-02-10 11:00:48.576568: I tensorflow/core/util/port.cc:104] oneDNN custom operations are on. You may see slightly different numerical results due to floating-point round-off errors from different computation orders. To turn them off, set the environment variable `TF_ENABLE_ONEDNN_OPTS=0`.\n",
      "2025-02-10 11:00:48.582972: W tensorflow/compiler/xla/stream_executor/platform/default/dso_loader.cc:64] Could not load dynamic library 'libcudart.so.11.0'; dlerror: libcudart.so.11.0: cannot open shared object file: No such file or directory\n",
      "2025-02-10 11:00:48.583023: I tensorflow/compiler/xla/stream_executor/cuda/cudart_stub.cc:29] Ignore above cudart dlerror if you do not have a GPU set up on your machine.\n",
      "2025-02-10 11:00:49.695561: W tensorflow/compiler/xla/stream_executor/platform/default/dso_loader.cc:64] Could not load dynamic library 'libnvinfer.so.7'; dlerror: libnvinfer.so.7: cannot open shared object file: No such file or directory\n",
      "2025-02-10 11:00:49.695771: W tensorflow/compiler/xla/stream_executor/platform/default/dso_loader.cc:64] Could not load dynamic library 'libnvinfer_plugin.so.7'; dlerror: libnvinfer_plugin.so.7: cannot open shared object file: No such file or directory\n",
      "2025-02-10 11:00:49.695792: W tensorflow/compiler/tf2tensorrt/utils/py_utils.cc:38] TF-TRT Warning: Cannot dlopen some TensorRT libraries. If you would like to use Nvidia GPU with TensorRT, please make sure the missing libraries mentioned above are installed properly.\n"
     ]
    },
    {
     "name": "stdout",
     "output_type": "stream",
     "text": [
      "2.11.0\n"
     ]
    }
   ],
   "source": [
    "# You can also use this section to suppress warnings generated by your code:\n",
    "def warn(*args, **kwargs):\n",
    "    pass\n",
    "import warnings\n",
    "warnings.warn = warn\n",
    "warnings.filterwarnings('ignore')\n",
    "\n",
    "import numpy as np\n",
    "import pandas as pd\n",
    "import math\n",
    "import matplotlib.pyplot as plt\n",
    "import seaborn as sns\n",
    "%matplotlib inline\n",
    "\n",
    "import tensorflow as tf\n",
    "print(tf. __version__)\n",
    "\n",
    "from tensorflow import keras\n",
    "from tensorflow.keras import layers\n",
    "from keras.preprocessing.text import Tokenizer\n",
    "from tensorflow.keras.losses import mean_squared_error\n",
    "from tensorflow.keras.models import Sequential\n",
    "from tensorflow.keras.layers import SimpleRNN, Dense, Embedding,Masking,LSTM, GRU, Conv1D, Dropout\n",
    "from tensorflow.keras.optimizers import Adam\n",
    "from tensorflow.keras.preprocessing.sequence import TimeseriesGenerator\n",
    "from sklearn.preprocessing import MinMaxScaler\n",
    "\n",
    "from keras.preprocessing import sequence\n",
    "from keras.models import Sequential\n",
    "from keras.layers import Dense, Dropout, Embedding, SimpleRNN\n",
    "from tensorflow.keras.datasets import reuters\n",
    "from keras.utils import pad_sequences\n",
    "\n",
    "\n",
    "sns.set_context('notebook')\n",
    "sns.set_style('white')\n",
    "np.random.seed(2024)\n"
   ]
  },
  {
   "cell_type": "markdown",
   "metadata": {},
   "source": [
    "## Gated RNN\n",
    "\n",
    "The two types of gated RNNs we will be studying in this lab are Long Short Term Memories (LSTM) and Gated Recurrent Units (GRU). GRU is simpler than LSTM. It's much faster and optimizes quicker. \n",
    "\n",
    "### LSTM\n",
    "\n",
    "The key idea of LSTMs is to have two state representations: the hidden state $\\mathbf h$ and the cell state $\\mathbf C$ (instead of $\\mathbf s$). \n",
    "\n",
    "An LSTM cell has a complex internal structure that makes it able to:\n",
    "\n",
    "* learn to recognize an important input,\n",
    "* store it in the long-term state,\n",
    "* preserve it for as long as it is needed,\n",
    "* extract it whenever it is needed.\n",
    "\n",
    "<img src=\"https://wiki.math.uwaterloo.ca/statwiki/images/thumb/9/98/LSTM.png/800px-LSTM.png\" alt=\"Source: http://colah.github.io/posts/2015-08-Understanding-LSTMs/\" style=\"width: 500px;\"> \n",
    "\n",
    "Source: http://colah.github.io/posts/2015-08-Understanding-LSTMs/\n",
    "\n",
    "LSTM has the ability to remove or add information to the cell state, carefully regulated by structures called gates, which are a way to optionally let information through. There are three gates in an LSTM; forget gate, input gate, and output gate. They are composed out of a *sigmoid* neural net layer. Sigmoid-based layers output values near either 0 (gate closed) or 1 (gate open).\n"
   ]
  },
  {
   "cell_type": "markdown",
   "metadata": {},
   "source": [
    "### GRU\n",
    "\n",
    "GRU is a simplification of the LSTM cell that performs similarly well while being faster to train. It has a single update gate controller that manages both the forget and input gates. Whenever one is open, the other is closed. There is no output gate. The reset gate controls which part of the previous state is shown to the main layer. The resulting model is simpler than standard LSTM models. GRUs have fewer parameters and thus may train a bit faster or need less data to generalize.\n",
    "\n",
    "<img src=\"https://github.com/DataScienceUB/DeepLearningMaster2019/blob/master/images/gru.png?raw=1\" alt=\"Source: http://colah.github.io/posts/2015-08-Understanding-LSTMs/\" style=\"width: 300px;\"> \n"
   ]
  },
  {
   "cell_type": "markdown",
   "metadata": {},
   "source": [
    "### LSTM in Keras: Time-series forecasting\n"
   ]
  },
  {
   "cell_type": "markdown",
   "metadata": {},
   "source": [
    "Next, we will build a simple LSTM model to solve a many-to-one time-series prediction problem on a simulated sine wave.\n"
   ]
  },
  {
   "cell_type": "markdown",
   "metadata": {},
   "source": [
    "Let's first start by generating some sine waves using the `np.sin()` function.\n"
   ]
  },
  {
   "cell_type": "code",
   "execution_count": 4,
   "metadata": {
    "tags": []
   },
   "outputs": [
    {
     "data": {
      "text/plain": [
       "[<matplotlib.lines.Line2D at 0x7fe80f472c90>]"
      ]
     },
     "execution_count": 4,
     "metadata": {},
     "output_type": "execute_result"
    },
    {
     "data": {
      "image/png": "[encoded data removed]",
      "text/plain": [
       "<Figure size 640x480 with 1 Axes>"
      ]
     },
     "metadata": {},
     "output_type": "display_data"
    }
   ],
   "source": [
    "x = np.linspace(0, 50, 501)\n",
    "y = np.sin(x)\n",
    "plt.plot(x, y)"
   ]
  },
  {
   "cell_type": "markdown",
   "metadata": {},
   "source": [
    "We will convert this into a data frame for convenience.\n"
   ]
  },
  {
   "cell_type": "code",
   "execution_count": 5,
   "metadata": {
    "tags": []
   },
   "outputs": [],
   "source": [
    "df = pd.DataFrame(data=y, index=x, columns=['Sine'])"
   ]
  },
  {
   "cell_type": "markdown",
   "metadata": {},
   "source": [
    "We are dealing with a univariate time series, so we have a total of one feature. We will be using 10% of the simulated data for testing.\n"
   ]
  },
  {
   "cell_type": "code",
   "execution_count": 6,
   "metadata": {
    "tags": []
   },
   "outputs": [],
   "source": [
    "# percentage of data used for testing\n",
    "test_percent = 0.1\n",
    "# number of features\n",
    "n_features = 1\n",
    "# sequence length\n",
    "length = 50\n",
    "# batch size \n",
    "batch_size = 1"
   ]
  },
  {
   "cell_type": "markdown",
   "metadata": {},
   "source": [
    "Let us now create a training and testing dataset to train and test our model on.\n"
   ]
  },
  {
   "cell_type": "code",
   "execution_count": 7,
   "metadata": {
    "tags": []
   },
   "outputs": [],
   "source": [
    "test_point = np.round(len(df)*test_percent)\n",
    "test_ind = int(len(df)-test_point)\n",
    "\n",
    "train = df.iloc[:test_ind]\n",
    "test = df.iloc[test_ind:]"
   ]
  },
  {
   "cell_type": "markdown",
   "metadata": {},
   "source": [
    "We will perform some basic preprocessing using the `MinMaxScaler`, which normalizes the input.\n"
   ]
  },
  {
   "cell_type": "code",
   "execution_count": 8,
   "metadata": {
    "tags": []
   },
   "outputs": [],
   "source": [
    "scaler = MinMaxScaler()\n",
    "scaled_train = scaler.fit_transform(train)\n",
    "scaled_test = scaler.transform(test)"
   ]
  },
  {
   "cell_type": "markdown",
   "metadata": {},
   "source": [
    "`TimeseriesGenerator` is a utility class by Keras that is used in generating batches of temporal data. Given our scaled training data, we create 401 output sequences.\n"
   ]
  },
  {
   "cell_type": "code",
   "execution_count": 9,
   "metadata": {
    "tags": []
   },
   "outputs": [
    {
     "data": {
      "text/plain": [
       "401"
      ]
     },
     "execution_count": 9,
     "metadata": {},
     "output_type": "execute_result"
    }
   ],
   "source": [
    "generator = TimeseriesGenerator(scaled_train, scaled_train, length=length, batch_size=batch_size)\n",
    "len(generator)"
   ]
  },
  {
   "cell_type": "markdown",
   "metadata": {},
   "source": [
    "We will use the `LSTM()` layer with 50 units, and an input shape defined by the sequence length and number of features.\n"
   ]
  },
  {
   "cell_type": "code",
   "execution_count": 10,
   "metadata": {
    "tags": []
   },
   "outputs": [
    {
     "name": "stderr",
     "output_type": "stream",
     "text": [
      "2025-02-10 11:00:51.328861: W tensorflow/compiler/xla/stream_executor/platform/default/dso_loader.cc:64] Could not load dynamic library 'libcuda.so.1'; dlerror: libcuda.so.1: cannot open shared object file: No such file or directory\n",
      "2025-02-10 11:00:51.328920: W tensorflow/compiler/xla/stream_executor/cuda/cuda_driver.cc:265] failed call to cuInit: UNKNOWN ERROR (303)\n",
      "2025-02-10 11:00:51.328949: I tensorflow/compiler/xla/stream_executor/cuda/cuda_diagnostics.cc:156] kernel driver does not appear to be running on this host (jupyterlab-nathan0723): /proc/driver/nvidia/version does not exist\n",
      "2025-02-10 11:00:51.329341: I tensorflow/core/platform/cpu_feature_guard.cc:193] This TensorFlow binary is optimized with oneAPI Deep Neural Network Library (oneDNN) to use the following CPU instructions in performance-critical operations:  AVX2 AVX512F AVX512_VNNI FMA\n",
      "To enable them in other operations, rebuild TensorFlow with the appropriate compiler flags.\n"
     ]
    }
   ],
   "source": [
    "model = Sequential()\n",
    "\n",
    "model.add(LSTM(50, input_shape=(length, n_features)))\n",
    "\n",
    "model.add(Dense(1))\n",
    "\n",
    "model.compile(optimizer='adam', loss='mse')"
   ]
  },
  {
   "cell_type": "code",
   "execution_count": 11,
   "metadata": {
    "tags": []
   },
   "outputs": [
    {
     "name": "stdout",
     "output_type": "stream",
     "text": [
      "Epoch 1/6\n",
      "401/401 [==============================] - 23s 53ms/step - loss: 0.0180\n",
      "Epoch 2/6\n",
      "401/401 [==============================] - 22s 55ms/step - loss: 4.0180e-04\n",
      "Epoch 3/6\n",
      "401/401 [==============================] - 23s 57ms/step - loss: 1.4970e-04\n",
      "Epoch 4/6\n",
      "401/401 [==============================] - 21s 52ms/step - loss: 1.3950e-04\n",
      "Epoch 5/6\n",
      "401/401 [==============================] - 22s 54ms/step - loss: 5.6659e-05\n",
      "Epoch 6/6\n",
      "401/401 [==============================] - 23s 56ms/step - loss: 4.0700e-04\n"
     ]
    },
    {
     "data": {
      "text/plain": [
       "<keras.callbacks.History at 0x7fe80c02f1d0>"
      ]
     },
     "execution_count": 11,
     "metadata": {},
     "output_type": "execute_result"
    }
   ],
   "source": [
    "model.fit_generator(generator, epochs=6)"
   ]
  },
  {
   "cell_type": "markdown",
   "metadata": {},
   "source": [
    "We will now evaluate the LSTM's performance in forecasting a few time steps from the first batch.\n"
   ]
  },
  {
   "cell_type": "code",
   "execution_count": 12,
   "metadata": {
    "tags": []
   },
   "outputs": [
    {
     "name": "stdout",
     "output_type": "stream",
     "text": [
      "1/1 [==============================] - 1s 520ms/step\n",
      "1/1 [==============================] - 0s 40ms/step\n",
      "1/1 [==============================] - 0s 24ms/step\n",
      "1/1 [==============================] - 0s 31ms/step\n",
      "1/1 [==============================] - 0s 24ms/step\n",
      "1/1 [==============================] - 0s 26ms/step\n",
      "1/1 [==============================] - 0s 26ms/step\n",
      "1/1 [==============================] - 0s 23ms/step\n",
      "1/1 [==============================] - 0s 25ms/step\n",
      "1/1 [==============================] - 0s 22ms/step\n",
      "1/1 [==============================] - 0s 23ms/step\n",
      "1/1 [==============================] - 0s 25ms/step\n",
      "1/1 [==============================] - 0s 27ms/step\n",
      "1/1 [==============================] - 0s 28ms/step\n",
      "1/1 [==============================] - 0s 28ms/step\n",
      "1/1 [==============================] - 0s 32ms/step\n",
      "1/1 [==============================] - 0s 35ms/step\n",
      "1/1 [==============================] - 0s 28ms/step\n",
      "1/1 [==============================] - 0s 28ms/step\n",
      "1/1 [==============================] - 0s 27ms/step\n",
      "1/1 [==============================] - 0s 27ms/step\n",
      "1/1 [==============================] - 0s 27ms/step\n",
      "1/1 [==============================] - 0s 24ms/step\n",
      "1/1 [==============================] - 0s 31ms/step\n",
      "1/1 [==============================] - 0s 31ms/step\n"
     ]
    }
   ],
   "source": [
    "forecast = []\n",
    "\n",
    "first_eval_batch = scaled_train[-length:]\n",
    "current_batch = first_eval_batch.reshape((1, length, n_features))\n",
    "\n",
    "for i in range(25):\n",
    "    current_pred = model.predict(current_batch)[0]\n",
    "    forecast.append(current_pred)\n",
    "    current_batch = np.append(current_batch[:, 1:, :], [[current_pred]], axis=1)"
   ]
  },
  {
   "cell_type": "markdown",
   "metadata": {},
   "source": [
    "We will invert the min-max scaling on the predictions to allow for a direct comparison with the ground truth.\n"
   ]
  },
  {
   "cell_type": "code",
   "execution_count": 13,
   "metadata": {
    "tags": []
   },
   "outputs": [],
   "source": [
    "forecast = scaler.inverse_transform(forecast)"
   ]
  },
  {
   "cell_type": "code",
   "execution_count": 14,
   "metadata": {
    "tags": []
   },
   "outputs": [],
   "source": [
    "forecast_index = np.arange(50.1, 52.6, step=0.1)"
   ]
  },
  {
   "cell_type": "code",
   "execution_count": 15,
   "metadata": {
    "tags": []
   },
   "outputs": [
    {
     "data": {
      "text/plain": [
       "[<matplotlib.lines.Line2D at 0x7fe7f43b18d0>]"
      ]
     },
     "execution_count": 15,
     "metadata": {},
     "output_type": "execute_result"
    },
    {
     "data": {
      "image/png": "[encoded data removed]",
      "text/plain": [
       "<Figure size 640x480 with 1 Axes>"
      ]
     },
     "metadata": {},
     "output_type": "display_data"
    }
   ],
   "source": [
    "plt.plot(df.index, df['Sine'])\n",
    "plt.plot(forecast_index, forecast)"
   ]
  },
  {
   "cell_type": "markdown",
   "metadata": {},
   "source": [
    "### Exercise 1: GRU in Keras - Reuters classification\n",
    "\n",
    "In this exercise, you will use the reuters dataset from Keras that we imported earlier to build a classification model using GRUs.\n"
   ]
  },
  {
   "cell_type": "markdown",
   "metadata": {},
   "source": [
    "The dataset used is the Reuters newswire dataset from Keras. We have 11,228 newswires from Reuters, labeled over 46 topics.\n",
    "\n",
    "> Each newswire is encoded as a list of word indexes (integers). For convenience, words are indexed by overall frequency in the dataset, so that for instance the integer \"3\" encodes the 3rd most frequent word in the data. This allows for quick filtering operations such as: \"only consider the top 10,000 most common words, but eliminate the top 20 most common words\".\n",
    "\n",
    "It returns the following:\n",
    "\n",
    "> x_train, x_test: lists of sequences, which are lists of indexes (integers). If the num_words argument was specific, the maximum possible index value is num_words - 1.\n"
   ]
  },
  {
   "cell_type": "markdown",
   "metadata": {},
   "source": [
    "Let us start by defining a few hyperparameters. \n",
    "\n",
    "* We use 10,000 to specify `num_words`, that is, the maximum possible index value loaded is `num_words` - 1. \n",
    "\n",
    "* Input length of the embedding layer is specified using `maxlen`\n",
    "\n",
    "* We will use 30% of the data for testing.\n"
   ]
  },
  {
   "cell_type": "code",
   "execution_count": 16,
   "metadata": {
    "tags": []
   },
   "outputs": [],
   "source": [
    "# Hyperparameters\n",
    "num_words = 10000\n",
    "maxlen = 1000\n",
    "test_split = 0.3"
   ]
  },
  {
   "cell_type": "markdown",
   "metadata": {},
   "source": [
    "Next, we will use the Keras API to load in our reuters dataset.\n"
   ]
  },
  {
   "cell_type": "code",
   "execution_count": 17,
   "metadata": {
    "tags": []
   },
   "outputs": [
    {
     "name": "stdout",
     "output_type": "stream",
     "text": [
      "Downloading data from https://storage.googleapis.com/tensorflow/tf-keras-datasets/reuters.npz\n",
      "2110848/2110848 [==============================] - 0s 0us/step\n",
      "7859 train sequences\n",
      "3369 test sequences\n"
     ]
    }
   ],
   "source": [
    "# Load reuters Data from Keras datasets\n",
    "(X_train, y_train),(X_test, y_test) = reuters.load_data(num_words=num_words, test_split=0.3)\n",
    "print(len(X_train), 'train sequences')\n",
    "print(len(X_test), 'test sequences')\n"
   ]
  },
  {
   "cell_type": "markdown",
   "metadata": {},
   "source": [
    "In terms of pre-processing, we pad sequences to the same length using `pad_sequences`. Sequences longer than `num_timesteps` are truncated so that they fit the desired length. Whereas sequences that are shorter than `num_timesteps` are padded with value until they are `num_timesteps` long.\n"
   ]
  },
  {
   "cell_type": "code",
   "execution_count": 18,
   "metadata": {
    "tags": []
   },
   "outputs": [
    {
     "name": "stdout",
     "output_type": "stream",
     "text": [
      "X_train shape: (7859, 1000)\n",
      "X_test shape: (3369, 1000)\n"
     ]
    }
   ],
   "source": [
    "# data preprocessing\n",
    "X_train = pad_sequences(X_train, maxlen=maxlen)\n",
    "X_test = pad_sequences(X_test, maxlen=maxlen)\n",
    "print('X_train shape:', X_train.shape)\n",
    "print('X_test shape:', X_test.shape)\n",
    "\n",
    "\n",
    "y_train = tf.keras.utils.to_categorical(y_train, 46)\n",
    "y_test = tf.keras.utils.to_categorical(y_test, 46)"
   ]
  },
  {
   "cell_type": "markdown",
   "metadata": {},
   "source": [
    "Start by defining the model architecture. Use a `GRU` layer with 128 units, and a dropout rate of 0.2. Use a dense layer with 46 units and softmax as the activation function. Print out the model summary.\n"
   ]
  },
  {
   "cell_type": "code",
   "execution_count": 19,
   "metadata": {
    "tags": []
   },
   "outputs": [
    {
     "name": "stdout",
     "output_type": "stream",
     "text": [
      "Model: \"sequential_1\"\n",
      "_________________________________________________________________\n",
      " Layer (type)                Output Shape              Param #   \n",
      "=================================================================\n",
      " embedding (Embedding)       (None, 1000, 300)         3000000   \n",
      "                                                                 \n",
      " gru (GRU)                   (None, 128)               165120    \n",
      "                                                                 \n",
      " dense_1 (Dense)             (None, 46)                5934      \n",
      "                                                                 \n",
      "=================================================================\n",
      "Total params: 3,171,054\n",
      "Trainable params: 3,171,054\n",
      "Non-trainable params: 0\n",
      "_________________________________________________________________\n"
     ]
    }
   ],
   "source": [
    "# Write your solution here\n",
    "model = Sequential()\n",
    "model.add(Embedding(input_dim = num_words, output_dim = 300,input_length=1000))\n",
    "model.add(GRU(128, dropout=0.2))\n",
    "model.add(Dense(46, activation='softmax'))\n",
    "model.summary()"
   ]
  },
  {
   "cell_type": "markdown",
   "metadata": {},
   "source": [
    "<details>\n",
    "    <summary>Click here for Solution</summary>\n",
    "   \n",
    "```python\n",
    "model = Sequential()\n",
    "model.add(Embedding(input_dim = num_words, output_dim = 300,input_length=1000))\n",
    "model.add(GRU(128, dropout=0.2))\n",
    "model.add(Dense(46, activation='softmax'))\n",
    "model.summary()\n",
    "```\n",
    "</details>\n"
   ]
  },
  {
   "cell_type": "markdown",
   "metadata": {},
   "source": [
    "Now compile the model using categorical_crossentropy as the loss function, adam as the optimizer and accuracy as the metric. Train the model using 256 as the batch size, over 10 training iterations and using 20% of the data for validation purposes. Finally, evaluate the model's performance on the test dataset.\n"
   ]
  },
  {
   "cell_type": "code",
   "execution_count": null,
   "metadata": {
    "tags": []
   },
   "outputs": [
    {
     "name": "stdout",
     "output_type": "stream",
     "text": [
      "Epoch 1/10\n",
      "25/25 [==============================] - 309s 12s/step - loss: 3.0503 - accuracy: 0.3370 - val_loss: 2.3307 - val_accuracy: 0.3575\n",
      "Epoch 2/10\n",
      "25/25 [==============================] - 312s 13s/step - loss: 2.1935 - accuracy: 0.3647 - val_loss: 2.0166 - val_accuracy: 0.4198\n",
      "Epoch 3/10\n",
      "25/25 [==============================] - 370s 15s/step - loss: 1.9149 - accuracy: 0.4474 - val_loss: 1.8649 - val_accuracy: 0.4580\n",
      "Epoch 4/10\n",
      "25/25 [==============================] - 350s 14s/step - loss: 1.7154 - accuracy: 0.5316 - val_loss: 1.7852 - val_accuracy: 0.5299\n",
      "Epoch 5/10\n",
      "25/25 [==============================] - 324s 13s/step - loss: 1.5735 - accuracy: 0.5769 - val_loss: 1.7624 - val_accuracy: 0.5503\n",
      "Epoch 6/10\n",
      "25/25 [==============================] - 297s 12s/step - loss: 1.4633 - accuracy: 0.6148 - val_loss: 1.7472 - val_accuracy: 0.5541\n",
      "Epoch 7/10\n",
      "25/25 [==============================] - 309s 12s/step - loss: 1.3688 - accuracy: 0.6394 - val_loss: 1.7785 - val_accuracy: 0.5592\n",
      "Epoch 8/10\n",
      "25/25 [==============================] - 380s 15s/step - loss: 1.2873 - accuracy: 0.6661 - val_loss: 1.7718 - val_accuracy: 0.5763\n",
      "Epoch 9/10\n",
      "13/25 [==============>...............] - ETA: 2:40 - loss: 1.2201 - accuracy: 0.6911"
     ]
    }
   ],
   "source": [
    "# Write your solution here\n",
    "model.compile(loss='categorical_crossentropy',optimizer='adam',metrics=['accuracy'])\n",
    "model.fit(X_train, y_train,batch_size=256,epochs=10,validation_split=0.2)\n",
    "model.evaluate(X_test,y_test)"
   ]
  },
  {
   "cell_type": "markdown",
   "metadata": {},
   "source": [
    "<details>\n",
    "    <summary>Click here for Solution</summary>\n",
    "   \n",
    "```python\n",
    "model.compile(loss='categorical_crossentropy',optimizer='adam',metrics=['accuracy'])\n",
    "model.fit(X_train, y_train,batch_size=256,epochs=10,validation_split=0.2)\n",
    "model.evaluate(X_test,y_test)\n",
    "```\n",
    "</details>\n"
   ]
  },
  {
   "cell_type": "markdown",
   "metadata": {},
   "source": [
    "## Authors\n"
   ]
  },
  {
   "cell_type": "markdown",
   "metadata": {},
   "source": [
    "[Kopal Garg](https://www.linkedin.com/in/gargkopal/?utm_medium=Exinfluencer&utm_source=Exinfluencer&utm_content=000026UJ&utm_term=10006555&utm_id=NA-SkillsNetwork-Channel-SkillsNetworkCoursesIBMDeveloperSkillsNetworkML311Coursera747-2022-01-01)\n"
   ]
  },
  {
   "cell_type": "markdown",
   "metadata": {},
   "source": [
    "Kopal is a Masters student in Computer Science at the University of Toronto.\n"
   ]
  },
  {
   "cell_type": "markdown",
   "metadata": {},
   "source": [
    "## Change Log\n"
   ]
  },
  {
   "cell_type": "markdown",
   "metadata": {},
   "source": [
    "|Date (YYYY-MM-DD)|Version|Changed By|Change Description|\n",
    "|-|-|-|-|\n",
    "|2022-06-23|0.1|Kopal|Create Lab|\n",
    "|2022-09-08|0.1|Steve Hord|QA pass edits|\n"
   ]
  },
  {
   "cell_type": "markdown",
   "metadata": {},
   "source": [
    "Copyright © 2022 IBM Corporation. All rights reserved.\n"
   ]
  }
 ],
 "metadata": {
  "kernelspec": {
   "display_name": "Python",
   "language": "python",
   "name": "conda-env-python-py"
  },
  "language_info": {
   "codemirror_mode": {
    "name": "ipython",
    "version": 3
   },
   "file_extension": ".py",
   "mimetype": "text/x-python",
   "name": "python",
   "nbconvert_exporter": "python",
   "pygments_lexer": "ipython3",
   "version": "3.7.12"
  }
 },
 "nbformat": 4,
 "nbformat_minor": 4
}
